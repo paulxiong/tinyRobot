{
  "nbformat": 4,
  "nbformat_minor": 0,
  "metadata": {
    "colab": {
      "name": "Pix2seq_lite.ipynb",
      "provenance": [],
      "collapsed_sections": []
    },
    "kernelspec": {
      "name": "python3",
      "display_name": "Python 3"
    },
    "language_info": {
      "name": "python"
    }
  },
  "cells": [
    {
      "cell_type": "code",
      "execution_count": 8,
      "metadata": {
        "colab": {
          "base_uri": "https://localhost:8080/"
        },
        "id": "E4bERWY44o2I",
        "outputId": "a099afe7-e5d9-478e-9e67-a820db13f260"
      },
      "outputs": [
        {
          "output_type": "stream",
          "name": "stdout",
          "text": [
            "\n",
            "WARNING: apt does not have a stable CLI interface. Use with caution in scripts.\n",
            "\n",
            "ssh root@0.tcp.ngrok.io -p 15225\n"
          ]
        }
      ],
      "source": [
        "# Install useful stuff\n",
        "! apt install --yes ssh screen nano htop ranger git > /dev/null\n",
        "# SSH setting\n",
        "! echo \"root:123456\" | chpasswd\n",
        "! echo \"PasswordAuthentication yes\" > /etc/ssh/sshd_config\n",
        "! echo \"PermitUserEnvironment yes\" >> /etc/ssh/sshd_config\n",
        "! echo \"PermitRootLogin yes\" >> /etc/ssh/sshd_config\n",
        "! service ssh restart > /dev/null\n",
        "# Download ngrok\n",
        "! wget -q -c -nc https://bin.equinox.io/c/4VmDzA7iaHb/ngrok-stable-linux-amd64.zip\n",
        "! unzip -qq -n ngrok-stable-linux-amd64.zip\n",
        "# Run ngrok\n",
        "authtoken = \"28Za2MO432TqJeo8XbHA8ECHSL1_6myT15KG61jin7FECdFWJ\"\n",
        "get_ipython().system_raw('./ngrok authtoken $authtoken && ./ngrok tcp 22 &')\n",
        "! sleep 3\n",
        "# Get the address for SSH\n",
        "import requests\n",
        "from re import sub\n",
        "r = requests.get('http://localhost:4040/api/tunnels')\n",
        "str_ssh = r.json()['tunnels'][0]['public_url']\n",
        "str_ssh = sub(\"tcp://\", \"\", str_ssh)\n",
        "str_ssh = sub(\":\", \" -p \", str_ssh)\n",
        "str_ssh_for_vsc = \"ssh -L 9999:localhost:9999 root@\" + str_ssh\n",
        "str_ssh = \"ssh root@\" + str_ssh\n",
        "print(str_ssh)"
      ]
    },
    {
      "cell_type": "code",
      "source": [
        "from google.colab import drive\n",
        "drive.mount('/content/drive')"
      ],
      "metadata": {
        "colab": {
          "base_uri": "https://localhost:8080/"
        },
        "id": "npHUdTf1HRSY",
        "outputId": "e3d59b7a-67a5-4c34-c65c-20ba0c53c7b5"
      },
      "execution_count": 2,
      "outputs": [
        {
          "output_type": "stream",
          "name": "stdout",
          "text": [
            "Drive already mounted at /content/drive; to attempt to forcibly remount, call drive.mount(\"/content/drive\", force_remount=True).\n"
          ]
        }
      ]
    },
    {
      "cell_type": "code",
      "source": [
        "# Mount Google Drive and make some folders for vscode\n",
        "from google.colab import drive\n",
        "drive.mount('/googledrive')\n",
        "! mkdir -p /googledrive/My\\ Drive/colabdrive\n",
        "! mkdir -p /googledrive/My\\ Drive/colabdrive/root/.local/share/code-server\n",
        "! ln -s /googledrive/My\\ Drive/colabdrive /\n",
        "! ln -s /googledrive/My\\ Drive/colabdrive/root/.local/share/code-server /root/.local/share/"
      ],
      "metadata": {
        "colab": {
          "base_uri": "https://localhost:8080/"
        },
        "id": "M0ezKe9yHyHo",
        "outputId": "7acf0a93-0ec5-4059-ba44-9f4e19eaa212"
      },
      "execution_count": 9,
      "outputs": [
        {
          "output_type": "stream",
          "name": "stdout",
          "text": [
            "Mounted at /googledrive\n",
            "ln: failed to create symbolic link '/colabdrive': File exists\n",
            "ln: failed to create symbolic link '/root/.local/share/code-server': File exists\n"
          ]
        }
      ]
    },
    {
      "cell_type": "code",
      "source": [
        "! curl -fsSL https://code-server.dev/install.sh | sh > /dev/null\n",
        "! code-server --bind-addr 127.0.0.1:9999 --auth none &\n",
        "print(\"copy following cmd to your local machine and run it in terminal:\")\n",
        "print(str_ssh_for_vsc)"
      ],
      "metadata": {
        "id": "6ryQO-8iIygU"
      },
      "execution_count": null,
      "outputs": []
    },
    {
      "cell_type": "code",
      "source": [
        "#! curl -fsSL https://code-server.dev/install.sh | sh > /dev/null\n",
        "#! code-server --bind-addr 127.0.0.1:7860 --auth none &"
      ],
      "metadata": {
        "colab": {
          "base_uri": "https://localhost:8080/"
        },
        "id": "jISSQpz1pmr6",
        "outputId": "8cb66044-5785-4bf9-876c-645dd5a7af9a"
      },
      "execution_count": null,
      "outputs": [
        {
          "output_type": "stream",
          "name": "stdout",
          "text": [
            "[2022-05-02T07:26:18.092Z] info  code-server 4.3.0 09bc30027a7fbba170f907a527eaa9f7219fe739\n",
            "[2022-05-02T07:26:18.093Z] info  Using user-data-dir ~/.local/share/code-server\n",
            "[2022-05-02T07:26:18.105Z] info  Using config file ~/.config/code-server/config.yaml\n",
            "[2022-05-02T07:26:18.106Z] info  HTTP server listening on http://127.0.0.1:7860/ \n",
            "[2022-05-02T07:26:18.106Z] info    - Authentication is disabled \n",
            "[2022-05-02T07:26:18.106Z] info    - Not serving HTTPS \n",
            "[07:27:38] Extension host agent started.\n",
            "[07:27:38] [File Watcher (node.js)] correcting a path to watch that seems to be a symbolic link or wrong casing (original: /root/.local/share/code-server/Machine, real: /googledrive/My Drive/colabdrive/root/.local/share/code-server/Machine)\n",
            "[07:27:38] [File Watcher (node.js)] correcting a path to watch that seems to be a symbolic link or wrong casing (original: /root/.local/share/code-server/extensions, real: /googledrive/My Drive/colabdrive/root/.local/share/code-server/extensions)\n",
            "[07:27:45] [127.0.0.1][8706f183][ManagementConnection] New connection established.\n",
            "[07:27:45] [File Watcher (node.js)] correcting a path to watch that seems to be a symbolic link or wrong casing (original: /root/.local/share/code-server/User, real: /googledrive/My Drive/colabdrive/root/.local/share/code-server/User)\n",
            "[07:27:45] [File Watcher (node.js)] correcting a path to watch that seems to be a symbolic link or wrong casing (original: /root/.local/share/code-server/User/settings.json, real: /googledrive/My Drive/colabdrive/root/.local/share/code-server/User/settings.json)\n",
            "[07:27:45] [File Watcher (node.js)] correcting a path to watch that seems to be a symbolic link or wrong casing (original: /root/.local/share/code-server/Machine, real: /googledrive/My Drive/colabdrive/root/.local/share/code-server/Machine)\n",
            "[07:27:46] Switching to using in-memory credential store instead because Keytar failed to load: Cannot find module '../build/Release/keytar.node'\n",
            "Require stack:\n",
            "- /usr/lib/code-server/lib/vscode/node_modules/keytar/lib/keytar.js\n",
            "- /usr/lib/code-server/lib/vscode/out/bootstrap-amd.js\n",
            "- /usr/lib/code-server/out/node/util.js\n",
            "- /usr/lib/code-server/out/node/cli.js\n",
            "- /usr/lib/code-server/out/node/entry.js\n",
            "[07:27:52] [127.0.0.1][fea1df7b][ExtensionHostConnection] New connection established.\n",
            "[07:27:52] [127.0.0.1][fea1df7b][ExtensionHostConnection] <11974> Launched Extension Host Process.\n",
            "[07:28:12] [127.0.0.1][8706f183][ManagementConnection] The client has disconnected gracefully, so the connection will be disposed.\n",
            "[07:28:12] [127.0.0.1][fea1df7b][ExtensionHostConnection] <11974> Extension Host Process exited with code: 0, signal: null.\n",
            "[07:28:16] [127.0.0.1][afb24e54][ManagementConnection] New connection established.\n",
            "[07:28:17] [File Watcher (node.js)] correcting a path to watch that seems to be a symbolic link or wrong casing (original: /root/.local/share/code-server/User, real: /googledrive/My Drive/colabdrive/root/.local/share/code-server/User)\n",
            "[07:28:17] [File Watcher (node.js)] correcting a path to watch that seems to be a symbolic link or wrong casing (original: /root/.local/share/code-server/User/settings.json, real: /googledrive/My Drive/colabdrive/root/.local/share/code-server/User/settings.json)\n",
            "[07:28:17] [File Watcher (node.js)] correcting a path to watch that seems to be a symbolic link or wrong casing (original: /root/.local/share/code-server/Machine, real: /googledrive/My Drive/colabdrive/root/.local/share/code-server/Machine)\n",
            "[07:28:20] [127.0.0.1][a9dd7f01][ExtensionHostConnection] New connection established.\n",
            "[07:28:20] [127.0.0.1][a9dd7f01][ExtensionHostConnection] <12015> Launched Extension Host Process.\n",
            "[07:29:18] [127.0.0.1][afb24e54][ManagementConnection] The client has disconnected gracefully, so the connection will be disposed.\n",
            "[07:29:18] [127.0.0.1][a9dd7f01][ExtensionHostConnection] <12015> Extension Host Process exited with code: 0, signal: null.\n",
            "[07:29:22] [127.0.0.1][112ca4a7][ManagementConnection] New connection established.\n",
            "[07:29:22] [File Watcher (node.js)] correcting a path to watch that seems to be a symbolic link or wrong casing (original: /root/.local/share/code-server/User, real: /googledrive/My Drive/colabdrive/root/.local/share/code-server/User)\n",
            "[07:29:22] [File Watcher (node.js)] correcting a path to watch that seems to be a symbolic link or wrong casing (original: /root/.local/share/code-server/User/settings.json, real: /googledrive/My Drive/colabdrive/root/.local/share/code-server/User/settings.json)\n",
            "[07:29:23] [File Watcher (node.js)] correcting a path to watch that seems to be a symbolic link or wrong casing (original: /root/.local/share/code-server/Machine, real: /googledrive/My Drive/colabdrive/root/.local/share/code-server/Machine)\n",
            "[07:29:25] [127.0.0.1][6e6401fd][ExtensionHostConnection] New connection established.\n",
            "[07:29:25] [127.0.0.1][6e6401fd][ExtensionHostConnection] <12184> Launched Extension Host Process.\n"
          ]
        }
      ]
    }
  ]
}